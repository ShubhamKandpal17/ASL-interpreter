{
 "cells": [
  {
   "cell_type": "code",
   "execution_count": 2,
   "id": "d45ddcbd",
   "metadata": {},
   "outputs": [
    {
     "name": "stdout",
     "output_type": "stream",
     "text": [
      "Requirement already satisfied: opencv-python in /Users/shubham/anaconda3/lib/python3.11/site-packages (4.9.0.80)\n",
      "Requirement already satisfied: numpy>=1.21.2 in /Users/shubham/anaconda3/lib/python3.11/site-packages (from opencv-python) (1.24.3)\n",
      "Note: you may need to restart the kernel to use updated packages.\n"
     ]
    }
   ],
   "source": [
    "pip install opencv-python"
   ]
  },
  {
   "cell_type": "code",
   "execution_count": 3,
   "id": "9c828086",
   "metadata": {},
   "outputs": [],
   "source": [
    "import cv2\n",
    "import os \n",
    "import time \n",
    "import uuid"
   ]
  },
  {
   "cell_type": "code",
   "execution_count": 4,
   "id": "7cd1b93d",
   "metadata": {},
   "outputs": [
    {
     "data": {
      "text/plain": [
       "'/Users/shubham/Desktop/DeafInt'"
      ]
     },
     "execution_count": 4,
     "metadata": {},
     "output_type": "execute_result"
    }
   ],
   "source": [
    "current_path = os.getcwd()\n",
    "current_path"
   ]
  },
  {
   "cell_type": "code",
   "execution_count": 7,
   "id": "50a4ecf9",
   "metadata": {},
   "outputs": [],
   "source": [
    "Images_path = '/Users/shubham/Desktop/DeafInt/images'\n",
    "\n",
    "labels = ['hello','thanks','yes','no','iloveyou']\n",
    "number_imgs = 4"
   ]
  },
  {
   "cell_type": "code",
   "execution_count": null,
   "id": "4289be06",
   "metadata": {},
   "outputs": [
    {
     "name": "stdout",
     "output_type": "stream",
     "text": [
      "mkdir: /Users/shubham/Desktop/DeafInt/images: File exists\n",
      "Collecting images for hello\n",
      "Collecting images for thanks\n",
      "Collecting images for yes\n"
     ]
    }
   ],
   "source": [
    "!mkdir {'/Users/shubham/Desktop/DeafInt/images'}\n",
    "for label in labels:\n",
    "    !mkdir {'/Users/shubham/Desktop/DeafInt/images/'+label}\n",
    "    cap = cv2.VideoCapture(0)\n",
    "    print ('Collecting images for {}'.format(label))\n",
    "    time.sleep(5)\n",
    "    for imgnum in range (number_imgs):\n",
    "        ret, frame = cap.read()\n",
    "        imgname = os.path.join(Images_path, label, label+'.' +'{}.jpg'.format(str(uuid.uuid1())))\n",
    "        cv2.imwrite (imgname, frame)\n",
    "        cv2.imshow( 'frame', frame)\n",
    "        time.sleep(2)\n",
    "\n",
    "        if cv2.waitKey(1) & 0xFF == ord('q'):\n",
    "            break\n",
    "\n",
    "    cap.release()"
   ]
  },
  {
   "cell_type": "code",
   "execution_count": 31,
   "id": "d08ac224",
   "metadata": {},
   "outputs": [],
   "source": [
    "cv2.destroyAllWindows()"
   ]
  },
  {
   "cell_type": "code",
   "execution_count": null,
   "id": "74d2fce9",
   "metadata": {},
   "outputs": [],
   "source": []
  },
  {
   "cell_type": "code",
   "execution_count": null,
   "id": "c7e6a523",
   "metadata": {},
   "outputs": [],
   "source": []
  },
  {
   "cell_type": "code",
   "execution_count": null,
   "id": "6cb5e0af",
   "metadata": {},
   "outputs": [],
   "source": []
  }
 ],
 "metadata": {
  "kernelspec": {
   "display_name": "Python 3 (ipykernel)",
   "language": "python",
   "name": "python3"
  },
  "language_info": {
   "codemirror_mode": {
    "name": "ipython",
    "version": 3
   },
   "file_extension": ".py",
   "mimetype": "text/x-python",
   "name": "python",
   "nbconvert_exporter": "python",
   "pygments_lexer": "ipython3",
   "version": "3.11.5"
  }
 },
 "nbformat": 4,
 "nbformat_minor": 5
}
